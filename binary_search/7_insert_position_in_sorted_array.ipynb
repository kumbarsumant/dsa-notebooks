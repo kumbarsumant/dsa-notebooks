{
 "cells": [
  {
   "cell_type": "markdown",
   "id": "837a35c1",
   "metadata": {},
   "source": [
    "# Find Insert Position in Sorted Array"
   ]
  },
  {
   "cell_type": "markdown",
   "id": "81fdd9d8",
   "metadata": {},
   "source": [
    "Given a sorted array and target element, return the index of target element if it exists.\n",
    "If not, return the index where target element should be inserted to maintain the order.\n",
    "\n",
    "- If target element exists → return its index\n",
    "- If not and target element < some element → return index of first element > target element\n",
    "- If target element is greater than all elements → return length of array"
   ]
  },
  {
   "cell_type": "code",
   "execution_count": 1,
   "id": "d4a49a24",
   "metadata": {},
   "outputs": [],
   "source": [
    "def find_insert_position(arr, target):\n",
    "    start = 0\n",
    "    end = len(arr) - 1\n",
    "    result = len(arr) # assuming inseting position to be last\n",
    "    \n",
    "    while start <= end:\n",
    "        mid = start + (end - start) // 2\n",
    "        if arr[mid] < target:\n",
    "            start = mid + 1\n",
    "        elif arr[mid] > target:\n",
    "            result = mid # can be answer, store it\n",
    "            end = mid - 1\n",
    "        else:\n",
    "            return mid\n",
    "    \n",
    "    return result"
   ]
  },
  {
   "cell_type": "code",
   "execution_count": 9,
   "id": "e8a89a4a",
   "metadata": {},
   "outputs": [
    {
     "name": "stdout",
     "output_type": "stream",
     "text": [
      "7\n"
     ]
    }
   ],
   "source": [
    "arr = [1, 2, 3, 4, 4, 4, 5]\n",
    "target = 7\n",
    "print(find_insert_position(arr, target))"
   ]
  },
  {
   "cell_type": "code",
   "execution_count": 10,
   "id": "4b6ed6cd",
   "metadata": {},
   "outputs": [
    {
     "name": "stdout",
     "output_type": "stream",
     "text": [
      "2\n"
     ]
    }
   ],
   "source": [
    "target = 3\n",
    "print(find_insert_position(arr, target))"
   ]
  },
  {
   "cell_type": "code",
   "execution_count": 11,
   "id": "ab291114",
   "metadata": {},
   "outputs": [
    {
     "name": "stdout",
     "output_type": "stream",
     "text": [
      "0\n"
     ]
    }
   ],
   "source": [
    "target = 0\n",
    "print(find_insert_position(arr, target))"
   ]
  },
  {
   "cell_type": "code",
   "execution_count": 12,
   "id": "eb155fa1",
   "metadata": {},
   "outputs": [
    {
     "name": "stdout",
     "output_type": "stream",
     "text": [
      "0\n"
     ]
    }
   ],
   "source": [
    "target = 1\n",
    "print(find_insert_position(arr, target))"
   ]
  },
  {
   "cell_type": "code",
   "execution_count": 13,
   "id": "12176ba7",
   "metadata": {},
   "outputs": [
    {
     "name": "stdout",
     "output_type": "stream",
     "text": [
      "3\n"
     ]
    }
   ],
   "source": [
    "target = 4\n",
    "print(find_insert_position(arr, target))"
   ]
  },
  {
   "cell_type": "code",
   "execution_count": null,
   "id": "675c2f0a",
   "metadata": {},
   "outputs": [],
   "source": []
  }
 ],
 "metadata": {
  "kernelspec": {
   "display_name": "Python 3 (ipykernel)",
   "language": "python",
   "name": "python3"
  },
  "language_info": {
   "codemirror_mode": {
    "name": "ipython",
    "version": 3
   },
   "file_extension": ".py",
   "mimetype": "text/x-python",
   "name": "python",
   "nbconvert_exporter": "python",
   "pygments_lexer": "ipython3",
   "version": "3.11.5"
  }
 },
 "nbformat": 4,
 "nbformat_minor": 5
}
