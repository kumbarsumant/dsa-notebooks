{
 "cells": [
  {
   "cell_type": "markdown",
   "id": "68615fdf",
   "metadata": {},
   "source": [
    "# Find the Median of Two Sorted Arrays"
   ]
  },
  {
   "cell_type": "code",
   "execution_count": 16,
   "id": "0b807e1d",
   "metadata": {},
   "outputs": [],
   "source": [
    "def find_median(arr1, arr2):\n",
    "    # length of arr1 <= length of arr2, so making this change here\n",
    "    if len(arr1) > len(arr2):\n",
    "        arr1, arr2 = arr2, arr1\n",
    "        \n",
    "    n1 = len(arr1)\n",
    "    n2 = len(arr2)\n",
    "    start = 0\n",
    "    end = n1 # note this is n1 and not n1- 1, setting this to length of arr1\n",
    "    total_elements = n1 + n2\n",
    "    \n",
    "    # we are using binary search here as the arrays are sorted\n",
    "    while start <= end:\n",
    "        a = start + (end - start) // 2\n",
    "        \n",
    "        # this is done to get the same number of elements in both partition\n",
    "        # if total elements are even, then part1 and part2 same number of element i.e. total_elements / 2\n",
    "        # if total elements are odd, the part1 have 1 element more than part2\n",
    "        b = (total_elements + 1) // 2 - a \n",
    "        \n",
    "        am1_val = float(\"-inf\") if a == 0 else arr1[a - 1] # this is max element in part1 in arr1\n",
    "        a_val = float(\"inf\") if a == n1 else arr1[a] # this is min element in part2 in arr1\n",
    "        bm1_val = float(\"-inf\") if b == 0 else arr2[b - 1] # this is max element in part1 in arr2\n",
    "        b_val = float(\"inf\") if b == n2 else arr2[b] # this is min element in part2 in arr2 \n",
    "        \n",
    "        if am1_val <= b_val and bm1_val <= a_val:\n",
    "            # partition is valid\n",
    "            median = 0\n",
    "            if total_elements % 2 == 0:\n",
    "                median = (max(am1_val, bm1_val) + min(a_val, b_val)) // 2\n",
    "            else:\n",
    "                median = max(am1_val, bm1_val) # we are storing the middle elements in part1\n",
    "            return median\n",
    "        elif bm1_val > a_val:\n",
    "            start = a + 1\n",
    "        else:\n",
    "            end = a - 1\n",
    "    return 0"
   ]
  },
  {
   "cell_type": "code",
   "execution_count": 14,
   "id": "533d38f1",
   "metadata": {},
   "outputs": [],
   "source": [
    "arr1 = [1, 2, 3]\n",
    "arr2 = [10, 100, 1000]"
   ]
  },
  {
   "cell_type": "code",
   "execution_count": 15,
   "id": "69dc356e",
   "metadata": {},
   "outputs": [
    {
     "data": {
      "text/plain": [
       "6"
      ]
     },
     "execution_count": 15,
     "metadata": {},
     "output_type": "execute_result"
    }
   ],
   "source": [
    "find_median(arr1, arr2)"
   ]
  },
  {
   "cell_type": "code",
   "execution_count": null,
   "id": "d1d46fd0",
   "metadata": {},
   "outputs": [],
   "source": []
  }
 ],
 "metadata": {
  "kernelspec": {
   "display_name": "Python 3 (ipykernel)",
   "language": "python",
   "name": "python3"
  },
  "language_info": {
   "codemirror_mode": {
    "name": "ipython",
    "version": 3
   },
   "file_extension": ".py",
   "mimetype": "text/x-python",
   "name": "python",
   "nbconvert_exporter": "python",
   "pygments_lexer": "ipython3",
   "version": "3.11.5"
  }
 },
 "nbformat": 4,
 "nbformat_minor": 5
}
