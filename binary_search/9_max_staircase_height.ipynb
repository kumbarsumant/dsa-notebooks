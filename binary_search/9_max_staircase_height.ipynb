{
 "cells": [
  {
   "cell_type": "markdown",
   "id": "c832215b",
   "metadata": {},
   "source": [
    "# Maximum Staircase Height"
   ]
  },
  {
   "cell_type": "markdown",
   "id": "36334968",
   "metadata": {},
   "source": [
    "You are given an integer `A` representing the number of square blocks. Each block has a height of 1 unit.\n",
    "\n",
    "Your task is to build a staircase using these blocks such that:\n",
    "- The 1st step requires 1 block\n",
    "- The 2nd step requires 2 blocks\n",
    "- The 3rd step requires 3 blocks\n",
    "- And so on...\n",
    "\n",
    "Return the **maximum height** of the staircase that can be formed using exactly or less than `A` blocks."
   ]
  },
  {
   "cell_type": "markdown",
   "id": "ebfa3623",
   "metadata": {},
   "source": [
    "### Mathematical Approach"
   ]
  },
  {
   "cell_type": "markdown",
   "id": "0088589d",
   "metadata": {},
   "source": [
    "To build a staircase of height `h`, we need:\n",
    "\n",
    "1 + 2 + 3 + ... + h = h * (h + 1) / 2\n",
    "\n",
    "We want the maximum value of `h` such that:\n",
    "\n",
    "h * (h + 1) / 2 ≤ A\n",
    "\n",
    "Multiplying both sides by 2:\n",
    "\n",
    "h² + h ≤ 2A\n",
    "\n",
    "This leads to a quadratic inequality:\n",
    "\n",
    "h² + h - 2A ≤ 0\n",
    "\n",
    "Solving this using the quadratic formula:\n",
    "\n",
    "h = [-1 ± √(1 + 8A)] / 2\n",
    "\n",
    "We discard the negative root and use the positive one:\n",
    "\n",
    "h = (√(1 + 8A) - 1) // 2\n"
   ]
  },
  {
   "cell_type": "code",
   "execution_count": 4,
   "id": "6d65685b",
   "metadata": {},
   "outputs": [],
   "source": [
    "# helper square root function\n",
    "def find_sqrt(n):\n",
    "    start = 0\n",
    "    end = n\n",
    "    result = 0\n",
    "    \n",
    "    while start <= end:\n",
    "        mid = start + (end - start) // 2\n",
    "        if mid * mid < n:\n",
    "            result = mid\n",
    "            start = mid + 1\n",
    "        elif mid * mid > n:\n",
    "            end = mid - 1\n",
    "        else:\n",
    "            return mid\n",
    "    \n",
    "    return result"
   ]
  },
  {
   "cell_type": "code",
   "execution_count": 5,
   "id": "440d7814",
   "metadata": {},
   "outputs": [],
   "source": [
    "def max_staircase_height(A):\n",
    "    delta = find_sqrt(1 + 8 * A)\n",
    "    return (delta - 1) // 2"
   ]
  },
  {
   "cell_type": "code",
   "execution_count": 6,
   "id": "20006c25",
   "metadata": {},
   "outputs": [
    {
     "name": "stdout",
     "output_type": "stream",
     "text": [
      "4\n"
     ]
    }
   ],
   "source": [
    "number_of_blocks = 10\n",
    "print(max_staircase_height(number_of_blocks))"
   ]
  },
  {
   "cell_type": "code",
   "execution_count": 7,
   "id": "f6dfe888",
   "metadata": {},
   "outputs": [
    {
     "name": "stdout",
     "output_type": "stream",
     "text": [
      "5\n"
     ]
    }
   ],
   "source": [
    "number_of_blocks = 20\n",
    "print(max_staircase_height(number_of_blocks))"
   ]
  },
  {
   "cell_type": "code",
   "execution_count": 18,
   "id": "6f949140",
   "metadata": {},
   "outputs": [
    {
     "name": "stdout",
     "output_type": "stream",
     "text": [
      "6\n"
     ]
    }
   ],
   "source": [
    "number_of_blocks = 21\n",
    "print(max_staircase_height(number_of_blocks))"
   ]
  },
  {
   "cell_type": "markdown",
   "id": "096e6399",
   "metadata": {},
   "source": [
    "### Second approach"
   ]
  },
  {
   "cell_type": "code",
   "execution_count": 12,
   "id": "e6b8ed70",
   "metadata": {},
   "outputs": [],
   "source": [
    "def max_staircase_height_2(A):\n",
    "    start = 0 # smallest height possible\n",
    "    end = A # max height possible\n",
    "    result = 0\n",
    "    \n",
    "    while start <= end:\n",
    "        mid = start + (end - start) // 2\n",
    "        # blocks required for height = mid\n",
    "        blocks = mid * (mid + 1) // 2\n",
    "        if blocks < A:\n",
    "            result = mid\n",
    "            start = mid + 1\n",
    "        elif blocks > A:\n",
    "            end = mid - 1\n",
    "        else:\n",
    "            return mid\n",
    "        \n",
    "    return result    "
   ]
  },
  {
   "cell_type": "code",
   "execution_count": 13,
   "id": "01d6879c",
   "metadata": {},
   "outputs": [
    {
     "name": "stdout",
     "output_type": "stream",
     "text": [
      "4\n"
     ]
    }
   ],
   "source": [
    "number_of_blocks = 10\n",
    "print(max_staircase_height_2(number_of_blocks))"
   ]
  },
  {
   "cell_type": "code",
   "execution_count": 14,
   "id": "ca1ffec8",
   "metadata": {},
   "outputs": [
    {
     "name": "stdout",
     "output_type": "stream",
     "text": [
      "1\n"
     ]
    }
   ],
   "source": [
    "number_of_blocks = 1\n",
    "print(max_staircase_height_2(number_of_blocks))"
   ]
  },
  {
   "cell_type": "code",
   "execution_count": 15,
   "id": "7dc8e017",
   "metadata": {},
   "outputs": [
    {
     "name": "stdout",
     "output_type": "stream",
     "text": [
      "5\n"
     ]
    }
   ],
   "source": [
    "number_of_blocks = 20\n",
    "print(max_staircase_height_2(number_of_blocks))"
   ]
  },
  {
   "cell_type": "code",
   "execution_count": 16,
   "id": "7ea1881c",
   "metadata": {},
   "outputs": [
    {
     "name": "stdout",
     "output_type": "stream",
     "text": [
      "6\n"
     ]
    }
   ],
   "source": [
    "number_of_blocks = 21\n",
    "print(max_staircase_height_2(number_of_blocks))"
   ]
  },
  {
   "cell_type": "code",
   "execution_count": 17,
   "id": "fb95ce02",
   "metadata": {},
   "outputs": [
    {
     "name": "stdout",
     "output_type": "stream",
     "text": [
      "2\n"
     ]
    }
   ],
   "source": [
    "number_of_blocks = 4\n",
    "print(max_staircase_height_2(number_of_blocks))"
   ]
  },
  {
   "cell_type": "code",
   "execution_count": null,
   "id": "d9b12bca",
   "metadata": {},
   "outputs": [],
   "source": []
  }
 ],
 "metadata": {
  "kernelspec": {
   "display_name": "Python 3 (ipykernel)",
   "language": "python",
   "name": "python3"
  },
  "language_info": {
   "codemirror_mode": {
    "name": "ipython",
    "version": 3
   },
   "file_extension": ".py",
   "mimetype": "text/x-python",
   "name": "python",
   "nbconvert_exporter": "python",
   "pygments_lexer": "ipython3",
   "version": "3.11.5"
  }
 },
 "nbformat": 4,
 "nbformat_minor": 5
}
