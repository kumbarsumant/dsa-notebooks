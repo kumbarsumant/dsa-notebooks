{
 "cells": [
  {
   "cell_type": "markdown",
   "id": "988b19c3",
   "metadata": {},
   "source": [
    "# Find Last Occurrence of an Element"
   ]
  },
  {
   "cell_type": "markdown",
   "id": "311b9374",
   "metadata": {},
   "source": [
    "Given a sorted array, find the last occurrence index of a given element, return -1 if not found"
   ]
  },
  {
   "cell_type": "code",
   "execution_count": 3,
   "id": "cfeab903",
   "metadata": {},
   "outputs": [],
   "source": [
    "def find_last_occurrence(arr, target):\n",
    "    start = 0\n",
    "    end = len(arr) - 1\n",
    "    result = -1\n",
    "    \n",
    "    while (start <= end):\n",
    "        mid = start + (end - start) // 2\n",
    "        if arr[mid] < target:\n",
    "            start = mid + 1\n",
    "        elif arr[mid] > target:\n",
    "            end = mid - 1\n",
    "        else:\n",
    "            result = mid # store the answer\n",
    "            start = mid + 1 # search in the right search space\n",
    "    \n",
    "    return result"
   ]
  },
  {
   "cell_type": "code",
   "execution_count": 5,
   "id": "b9d20e06",
   "metadata": {},
   "outputs": [],
   "source": [
    "arr = [1, 4, 4, 5, 7, 9, 10, 10, 23]\n",
    "target = 4"
   ]
  },
  {
   "cell_type": "code",
   "execution_count": 6,
   "id": "bdb77382",
   "metadata": {},
   "outputs": [
    {
     "name": "stdout",
     "output_type": "stream",
     "text": [
      "2\n"
     ]
    }
   ],
   "source": [
    "print(find_last_occurrence(arr, target))"
   ]
  },
  {
   "cell_type": "code",
   "execution_count": 7,
   "id": "de1f4a2c",
   "metadata": {},
   "outputs": [
    {
     "name": "stdout",
     "output_type": "stream",
     "text": [
      "7\n"
     ]
    }
   ],
   "source": [
    "target = 10\n",
    "print(find_last_occurrence(arr, target))"
   ]
  },
  {
   "cell_type": "code",
   "execution_count": 8,
   "id": "e18801cd",
   "metadata": {},
   "outputs": [
    {
     "name": "stdout",
     "output_type": "stream",
     "text": [
      "-1\n"
     ]
    }
   ],
   "source": [
    "target = 22\n",
    "print(find_last_occurrence(arr, target))"
   ]
  },
  {
   "cell_type": "code",
   "execution_count": null,
   "id": "71daa4cc",
   "metadata": {},
   "outputs": [],
   "source": []
  }
 ],
 "metadata": {
  "kernelspec": {
   "display_name": "Python 3 (ipykernel)",
   "language": "python",
   "name": "python3"
  },
  "language_info": {
   "codemirror_mode": {
    "name": "ipython",
    "version": 3
   },
   "file_extension": ".py",
   "mimetype": "text/x-python",
   "name": "python",
   "nbconvert_exporter": "python",
   "pygments_lexer": "ipython3",
   "version": "3.11.5"
  }
 },
 "nbformat": 4,
 "nbformat_minor": 5
}
