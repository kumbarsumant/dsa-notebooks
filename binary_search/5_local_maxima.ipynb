{
 "cells": [
  {
   "cell_type": "markdown",
   "id": "7232b3c7",
   "metadata": {},
   "source": [
    "# Find Local Maxima"
   ]
  },
  {
   "cell_type": "markdown",
   "id": "ef98ced2",
   "metadata": {},
   "source": [
    "Given a non empty array of elements, find any local maxima. An element is said to be local maxima if its adjacent elements are smaller than the element. Return -1 if there is no local maxima."
   ]
  },
  {
   "cell_type": "code",
   "execution_count": 15,
   "id": "d59402ec",
   "metadata": {},
   "outputs": [],
   "source": [
    "def find_local_maxima(arr):\n",
    "    n = len(arr)\n",
    "    \n",
    "    if n == 1:\n",
    "        return arr[0]\n",
    "    \n",
    "    if arr[0] > arr[1]:\n",
    "        return arr[0]\n",
    "    \n",
    "    if arr[n-1] > arr[n-2]:\n",
    "        return arr[n-1]\n",
    "    \n",
    "    start = 1\n",
    "    end = n - 2\n",
    "    \n",
    "    while start <= end:\n",
    "        mid = start + (end - start) // 2\n",
    "        if arr[mid-1] < arr[mid] and arr[mid+1] < arr[mid]:\n",
    "            return arr[mid]\n",
    "        elif arr[mid-1] > arr[mid] and arr[mid + 1] < arr[mid]:\n",
    "            end = mid - 1 # search in the left search space\n",
    "        else:\n",
    "            start = mid + 1 # search in the right search space\n",
    "    \n",
    "    return -1"
   ]
  },
  {
   "cell_type": "code",
   "execution_count": 16,
   "id": "8f09e03e",
   "metadata": {},
   "outputs": [
    {
     "name": "stdout",
     "output_type": "stream",
     "text": [
      "8\n"
     ]
    }
   ],
   "source": [
    "arr = [2, 4, 2, 2, 5, 6, 7, 8, 3]\n",
    "print(find_local_maxima(arr))"
   ]
  },
  {
   "cell_type": "code",
   "execution_count": 17,
   "id": "6dbe69c2",
   "metadata": {},
   "outputs": [
    {
     "name": "stdout",
     "output_type": "stream",
     "text": [
      "3\n"
     ]
    }
   ],
   "source": [
    "arr = [2, 4, 2, 2, 5, 6, 7, 2, 3]\n",
    "print(find_local_maxima(arr))"
   ]
  },
  {
   "cell_type": "code",
   "execution_count": 18,
   "id": "cdaf3ee8",
   "metadata": {},
   "outputs": [
    {
     "name": "stdout",
     "output_type": "stream",
     "text": [
      "5\n"
     ]
    }
   ],
   "source": [
    "arr = [5, 4, 2, 2, 5, 6, 7, 2, 3]\n",
    "print(find_local_maxima(arr))"
   ]
  },
  {
   "cell_type": "code",
   "execution_count": 19,
   "id": "8b095972",
   "metadata": {},
   "outputs": [
    {
     "name": "stdout",
     "output_type": "stream",
     "text": [
      "-1\n"
     ]
    }
   ],
   "source": [
    "arr = [1, 2, 3, 4, 5, 5, 4, 3, 2, 1]\n",
    "print(find_local_maxima(arr))"
   ]
  },
  {
   "cell_type": "code",
   "execution_count": null,
   "id": "cc92473c",
   "metadata": {},
   "outputs": [],
   "source": []
  }
 ],
 "metadata": {
  "kernelspec": {
   "display_name": "Python 3 (ipykernel)",
   "language": "python",
   "name": "python3"
  },
  "language_info": {
   "codemirror_mode": {
    "name": "ipython",
    "version": 3
   },
   "file_extension": ".py",
   "mimetype": "text/x-python",
   "name": "python",
   "nbconvert_exporter": "python",
   "pygments_lexer": "ipython3",
   "version": "3.11.5"
  }
 },
 "nbformat": 4,
 "nbformat_minor": 5
}
