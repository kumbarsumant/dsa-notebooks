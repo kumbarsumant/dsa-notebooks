{
 "cells": [
  {
   "cell_type": "markdown",
   "id": "f95e6c1a",
   "metadata": {},
   "source": [
    "# Find the Square Root"
   ]
  },
  {
   "cell_type": "markdown",
   "id": "0dc82dd9",
   "metadata": {},
   "source": [
    "Find the square root of a number. Always return the floor value"
   ]
  },
  {
   "cell_type": "code",
   "execution_count": 3,
   "id": "6e0b4c2a",
   "metadata": {},
   "outputs": [],
   "source": [
    "def find_square_root(n):\n",
    "    start = 1\n",
    "    end = n # for n=1 case\n",
    "    result = 0\n",
    "    \n",
    "    while start <= end:\n",
    "        mid = start + (end - start) // 2\n",
    "        if mid * mid < n:\n",
    "            result = mid # can be possible answer, store it\n",
    "            start = mid + 1 # search in the right search space\n",
    "        elif mid * mid > n:\n",
    "            end = mid - 1 # left search space\n",
    "        else:\n",
    "            return mid\n",
    "        \n",
    "    return result\n",
    "    "
   ]
  },
  {
   "cell_type": "code",
   "execution_count": 4,
   "id": "8cc1c0b6",
   "metadata": {},
   "outputs": [
    {
     "name": "stdout",
     "output_type": "stream",
     "text": [
      "3\n"
     ]
    }
   ],
   "source": [
    "n = 15\n",
    "print(find_square_root(n))"
   ]
  },
  {
   "cell_type": "code",
   "execution_count": 5,
   "id": "72d7994d",
   "metadata": {},
   "outputs": [
    {
     "name": "stdout",
     "output_type": "stream",
     "text": [
      "4\n"
     ]
    }
   ],
   "source": [
    "n = 16\n",
    "print(find_square_root(n))"
   ]
  },
  {
   "cell_type": "code",
   "execution_count": 6,
   "id": "b92256d0",
   "metadata": {},
   "outputs": [
    {
     "name": "stdout",
     "output_type": "stream",
     "text": [
      "0\n"
     ]
    }
   ],
   "source": [
    "n = 0\n",
    "print(find_square_root(n))"
   ]
  },
  {
   "cell_type": "code",
   "execution_count": 9,
   "id": "86001fd3",
   "metadata": {},
   "outputs": [
    {
     "name": "stdout",
     "output_type": "stream",
     "text": [
      "1\n"
     ]
    }
   ],
   "source": [
    "n = 1\n",
    "print(find_square_root(n))"
   ]
  },
  {
   "cell_type": "code",
   "execution_count": 10,
   "id": "a21abfc6",
   "metadata": {},
   "outputs": [
    {
     "name": "stdout",
     "output_type": "stream",
     "text": [
      "7\n"
     ]
    }
   ],
   "source": [
    "n = 50\n",
    "print(find_square_root(n))"
   ]
  },
  {
   "cell_type": "code",
   "execution_count": null,
   "id": "2cc95795",
   "metadata": {},
   "outputs": [],
   "source": []
  }
 ],
 "metadata": {
  "kernelspec": {
   "display_name": "Python 3 (ipykernel)",
   "language": "python",
   "name": "python3"
  },
  "language_info": {
   "codemirror_mode": {
    "name": "ipython",
    "version": 3
   },
   "file_extension": ".py",
   "mimetype": "text/x-python",
   "name": "python",
   "nbconvert_exporter": "python",
   "pygments_lexer": "ipython3",
   "version": "3.11.5"
  }
 },
 "nbformat": 4,
 "nbformat_minor": 5
}
