{
 "cells": [
  {
   "cell_type": "markdown",
   "id": "aaa455c8",
   "metadata": {},
   "source": [
    "# Search in Sorted Matrix"
   ]
  },
  {
   "cell_type": "markdown",
   "id": "b1c08b6e",
   "metadata": {},
   "source": [
    "Given a matrix A of size N x M, where:\n",
    "\n",
    "- Each row is sorted left to right\n",
    "- The first element of each row ≥ last element of the previous row\n",
    "\n",
    "Search for integer B.\n",
    "- Return 1 if found, else 0.\n",
    "\n"
   ]
  },
  {
   "cell_type": "code",
   "execution_count": 1,
   "id": "d50896de",
   "metadata": {},
   "outputs": [],
   "source": [
    "def search_matrix(matrix, target):\n",
    "    # here we will assume the matrix into a single dimension array and solve\n",
    "    \n",
    "    n = len(matrix)\n",
    "    m = len(matrix[0])\n",
    "    \n",
    "    start = 0\n",
    "    end = n * m - 1\n",
    "    \n",
    "    while start <= end:\n",
    "        mid = start + (end - start) // 2\n",
    "        row_index = mid // m\n",
    "        col_index = mid % m\n",
    "        current_element = matrix[row_index][col_index]\n",
    "        \n",
    "        if current_element < target:\n",
    "            start = mid + 1\n",
    "        elif current_element > target:\n",
    "            end = mid - 1\n",
    "        else:\n",
    "            return 1\n",
    "\n",
    "    return 0"
   ]
  },
  {
   "cell_type": "code",
   "execution_count": 5,
   "id": "64f7f7a6",
   "metadata": {},
   "outputs": [
    {
     "name": "stdout",
     "output_type": "stream",
     "text": [
      "1\n"
     ]
    }
   ],
   "source": [
    "matrix = [\n",
    "    [1, 3,  5,  7], \n",
    "    [10, 11, 16, 20],\n",
    "    [23, 30, 34, 50]\n",
    "]\n",
    "target = 3\n",
    "print(search_matrix(matrix, target))"
   ]
  },
  {
   "cell_type": "code",
   "execution_count": 6,
   "id": "eb508b0d",
   "metadata": {},
   "outputs": [
    {
     "name": "stdout",
     "output_type": "stream",
     "text": [
      "1\n"
     ]
    }
   ],
   "source": [
    "target = 20\n",
    "print(search_matrix(matrix, target))"
   ]
  },
  {
   "cell_type": "code",
   "execution_count": 7,
   "id": "090edb9a",
   "metadata": {},
   "outputs": [
    {
     "name": "stdout",
     "output_type": "stream",
     "text": [
      "0\n"
     ]
    }
   ],
   "source": [
    "target = 100\n",
    "print(search_matrix(matrix, target))"
   ]
  },
  {
   "cell_type": "code",
   "execution_count": null,
   "id": "c64d83de",
   "metadata": {},
   "outputs": [],
   "source": []
  }
 ],
 "metadata": {
  "kernelspec": {
   "display_name": "Python 3 (ipykernel)",
   "language": "python",
   "name": "python3"
  },
  "language_info": {
   "codemirror_mode": {
    "name": "ipython",
    "version": 3
   },
   "file_extension": ".py",
   "mimetype": "text/x-python",
   "name": "python",
   "nbconvert_exporter": "python",
   "pygments_lexer": "ipython3",
   "version": "3.11.5"
  }
 },
 "nbformat": 4,
 "nbformat_minor": 5
}
