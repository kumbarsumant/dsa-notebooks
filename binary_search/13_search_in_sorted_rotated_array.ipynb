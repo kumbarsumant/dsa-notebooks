{
 "cells": [
  {
   "cell_type": "markdown",
   "id": "a30ef66c",
   "metadata": {},
   "source": [
    "# Rotated Sorted Array Search"
   ]
  },
  {
   "cell_type": "markdown",
   "id": "ee4dc229",
   "metadata": {},
   "source": [
    "You are given a sorted array that has been rotated at some unknown pivot. The array contains distinct integers.\n",
    "\n",
    "Your task is to search for a given target value in this array and return its index. If the target is not found, return -1.\n",
    "\n",
    "You must solve this in O(log N) time complexity."
   ]
  },
  {
   "cell_type": "code",
   "execution_count": 4,
   "id": "ebfa570f",
   "metadata": {},
   "outputs": [],
   "source": [
    "def search(arr, target):\n",
    "    start = 0\n",
    "    end = len(arr) - 1\n",
    "    \n",
    "    while start <= end:\n",
    "        mid = start + (end - start) // 2\n",
    "        \n",
    "        if arr[mid] == target:\n",
    "            return mid\n",
    "        \n",
    "        # searching logic is easier in sorted search space\n",
    "        # hence we will find out which part is sorted\n",
    "        \n",
    "        if arr[start] < arr[mid]: # confirms the left search space is sorted\n",
    "            if arr[start] <= target and target <= arr[end]: # search logic in sorted array\n",
    "                end = mid - 1\n",
    "            else:\n",
    "                start = mid + 1\n",
    "        else:\n",
    "            if arr[mid] <= target and target <= arr[end]: # search logic in sorted array\n",
    "                start = mid + 1\n",
    "            else:\n",
    "                end = mid - 1\n",
    "        \n",
    "    return -1"
   ]
  },
  {
   "cell_type": "code",
   "execution_count": 5,
   "id": "73f5c687",
   "metadata": {},
   "outputs": [
    {
     "name": "stdout",
     "output_type": "stream",
     "text": [
      "4\n"
     ]
    }
   ],
   "source": [
    "arr = [30, 40, 50, 60, 10, 20]\n",
    "target = 10\n",
    "print(search(arr, target))"
   ]
  },
  {
   "cell_type": "code",
   "execution_count": 6,
   "id": "60a76e56",
   "metadata": {},
   "outputs": [
    {
     "name": "stdout",
     "output_type": "stream",
     "text": [
      "1\n"
     ]
    }
   ],
   "source": [
    "arr = [10, 20, 30, 40, 50, 60]\n",
    "target = 20\n",
    "print(search(arr, target))"
   ]
  },
  {
   "cell_type": "code",
   "execution_count": null,
   "id": "1582f144",
   "metadata": {},
   "outputs": [],
   "source": []
  }
 ],
 "metadata": {
  "kernelspec": {
   "display_name": "Python 3 (ipykernel)",
   "language": "python",
   "name": "python3"
  },
  "language_info": {
   "codemirror_mode": {
    "name": "ipython",
    "version": 3
   },
   "file_extension": ".py",
   "mimetype": "text/x-python",
   "name": "python",
   "nbconvert_exporter": "python",
   "pygments_lexer": "ipython3",
   "version": "3.11.5"
  }
 },
 "nbformat": 4,
 "nbformat_minor": 5
}
