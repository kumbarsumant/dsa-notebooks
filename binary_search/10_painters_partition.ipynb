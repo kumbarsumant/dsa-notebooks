{
 "cells": [
  {
   "cell_type": "markdown",
   "id": "7f6d5112",
   "metadata": {},
   "source": [
    "#  Painter's Partition Problem"
   ]
  },
  {
   "cell_type": "markdown",
   "id": "75400324",
   "metadata": {},
   "source": [
    "You are given an integer `num_painters` representing the number of painters available, and an array `boards` where each element represents the length of a board to be painted.\n",
    "Each painter takes `time` unit of time to paint 1 unit length of board. A painter can only paint **contiguous** sections of boards, and no two painters can paint the same board.\n",
    "Your task is to determine the **minimum amount of time** needed to paint all boards when the work is distributed optimally among the painters.\n",
    "\n",
    "#### Conditions:\n",
    "- Each board must be painted by exactly one painter\n",
    "- Each painter can only paint a **continuous** sequence of boards\n",
    "- The time taken by a painter is equal to the **sum of lengths** of the boards they paint\n",
    "- Your goal is to **minimize the maximum time** any painter takes\n",
    "\n",
    "Return the **minimum time** required to paint all the boards under these constraints."
   ]
  },
  {
   "cell_type": "code",
   "execution_count": 13,
   "id": "6183dfea",
   "metadata": {},
   "outputs": [],
   "source": [
    "def _get_minimum_possible_time(boards, time):\n",
    "    # when there is a painter for each board then we can complete the boards painting in minium time.\n",
    "    # board with max length limits the time hence\n",
    "    # min_time = maximum value of (board * time)\n",
    "    min_time = 0\n",
    "    for board in boards:\n",
    "        min_time = max(min_time, board * time)\n",
    "    return min_time\n",
    "\n",
    "\n",
    "def _get_maximum_possible_time(boards, time):\n",
    "    # when all the boards needs to be painted by a single painter, then time required is maximum\n",
    "    # hence max_time = sum of all (board * time)\n",
    "    max_time = 0\n",
    "    for board in boards:\n",
    "        max_time += (board * time)\n",
    "    return max_time\n",
    "    \n",
    "\n",
    "def _is_possible(boards, time, num_painters, estimated_min_time):\n",
    "    painters_utilized = 1\n",
    "    time_taken_by_current_painter = 0\n",
    "    \n",
    "    for board in boards:\n",
    "        time_taken_by_current_painter += board * time\n",
    "        if time_taken_by_current_painter > estimated_min_time:\n",
    "            painters_utilized += 1\n",
    "            time_taken_by_current_painter = board * time\n",
    "            \n",
    "        if painters_utilized > num_painters:\n",
    "            return False\n",
    "        \n",
    "    return True\n",
    "\n",
    "\n",
    "def painters_partition(boards, time, num_painters):\n",
    "    start = _get_minimum_possible_time(boards, time)\n",
    "    end = _get_maximum_possible_time(boards, time)\n",
    "    result = 0\n",
    "    \n",
    "    while start <= end:\n",
    "        mid = start + (end - start) // 2\n",
    "        if _is_possible(boards, time, num_painters, mid):\n",
    "            result = mid\n",
    "            end = mid - 1\n",
    "        else:\n",
    "            start = mid + 1\n",
    "    \n",
    "    return result"
   ]
  },
  {
   "cell_type": "code",
   "execution_count": 18,
   "id": "a37a82b3",
   "metadata": {},
   "outputs": [
    {
     "name": "stdout",
     "output_type": "stream",
     "text": [
      "11\n"
     ]
    }
   ],
   "source": [
    "boards = [1, 8, 11, 3]\n",
    "time = 1\n",
    "num_painters = 10\n",
    "print(painters_partition(boards, time, num_painters))"
   ]
  },
  {
   "cell_type": "code",
   "execution_count": 21,
   "id": "8f6a94f7",
   "metadata": {},
   "outputs": [
    {
     "name": "stdout",
     "output_type": "stream",
     "text": [
      "50\n"
     ]
    }
   ],
   "source": [
    "boards = [1, 10]\n",
    "time = 5\n",
    "num_painters = 2\n",
    "print(painters_partition(boards, time, num_painters))"
   ]
  },
  {
   "cell_type": "code",
   "execution_count": null,
   "id": "c8c5dfa9",
   "metadata": {},
   "outputs": [],
   "source": []
  }
 ],
 "metadata": {
  "kernelspec": {
   "display_name": "Python 3 (ipykernel)",
   "language": "python",
   "name": "python3"
  },
  "language_info": {
   "codemirror_mode": {
    "name": "ipython",
    "version": 3
   },
   "file_extension": ".py",
   "mimetype": "text/x-python",
   "name": "python",
   "nbconvert_exporter": "python",
   "pygments_lexer": "ipython3",
   "version": "3.11.5"
  }
 },
 "nbformat": 4,
 "nbformat_minor": 5
}
