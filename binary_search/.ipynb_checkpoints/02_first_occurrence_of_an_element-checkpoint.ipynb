{
 "cells": [
  {
   "cell_type": "markdown",
   "id": "a50f5c95",
   "metadata": {},
   "source": [
    "# Find the first occurrence of an element in the sorted array"
   ]
  },
  {
   "cell_type": "markdown",
   "id": "3e789905",
   "metadata": {},
   "source": [
    "Given the sorted arry of integers find the first occurrence of the given element, return -1 if the element not present"
   ]
  },
  {
   "cell_type": "code",
   "execution_count": 6,
   "id": "bb0f4231",
   "metadata": {},
   "outputs": [],
   "source": [
    "def find_first_occrrence(arr, target):\n",
    "    start = 0\n",
    "    end = len(arr) - 1\n",
    "    result = -1\n",
    "    \n",
    "    while (start <= end):\n",
    "        mid = start + (end - start) // 2\n",
    "        if arr[mid] < target:\n",
    "            start = mid + 1\n",
    "        elif arr[mid] > target:\n",
    "            end = mid - 1\n",
    "        else:\n",
    "            result = mid # store the answer\n",
    "            end = mid - 1 # look in the left search space\n",
    "    \n",
    "    return result"
   ]
  },
  {
   "cell_type": "code",
   "execution_count": 9,
   "id": "3e9fc590",
   "metadata": {},
   "outputs": [],
   "source": [
    "arr = [2, 4, 4, 4, 5, 10, 10, 23, 45]\n",
    "target = 4"
   ]
  },
  {
   "cell_type": "code",
   "execution_count": 11,
   "id": "2a26de2c",
   "metadata": {},
   "outputs": [
    {
     "name": "stdout",
     "output_type": "stream",
     "text": [
      "1\n"
     ]
    }
   ],
   "source": [
    "print(find_first_occrrence(arr, target))"
   ]
  },
  {
   "cell_type": "code",
   "execution_count": 13,
   "id": "aea705f3",
   "metadata": {},
   "outputs": [
    {
     "name": "stdout",
     "output_type": "stream",
     "text": [
      "5\n"
     ]
    }
   ],
   "source": [
    "target = 10\n",
    "print(find_first_occrrence(arr, target))"
   ]
  },
  {
   "cell_type": "code",
   "execution_count": 14,
   "id": "c331956b",
   "metadata": {},
   "outputs": [
    {
     "name": "stdout",
     "output_type": "stream",
     "text": [
      "-1\n"
     ]
    }
   ],
   "source": [
    "target = 12\n",
    "print(find_first_occrrence(arr, target))"
   ]
  },
  {
   "cell_type": "code",
   "execution_count": null,
   "id": "b92fed8e",
   "metadata": {},
   "outputs": [],
   "source": []
  }
 ],
 "metadata": {
  "kernelspec": {
   "display_name": "Python 3 (ipykernel)",
   "language": "python",
   "name": "python3"
  },
  "language_info": {
   "codemirror_mode": {
    "name": "ipython",
    "version": 3
   },
   "file_extension": ".py",
   "mimetype": "text/x-python",
   "name": "python",
   "nbconvert_exporter": "python",
   "pygments_lexer": "ipython3",
   "version": "3.11.5"
  }
 },
 "nbformat": 4,
 "nbformat_minor": 5
}
