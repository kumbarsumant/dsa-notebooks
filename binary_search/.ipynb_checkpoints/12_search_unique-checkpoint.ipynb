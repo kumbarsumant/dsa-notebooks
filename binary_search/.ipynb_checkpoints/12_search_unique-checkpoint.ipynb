{
 "cells": [
  {
   "cell_type": "markdown",
   "id": "fbc98331",
   "metadata": {},
   "source": [
    "# Search unique element"
   ]
  },
  {
   "cell_type": "markdown",
   "id": "89e5e8ef",
   "metadata": {},
   "source": [
    "Given array of elements (not sorted) where one element is unique and and remaining elements are repeated twice. An those which are repeated appear in the adjacent place. Return the unique element if present else return -1"
   ]
  },
  {
   "cell_type": "code",
   "execution_count": 1,
   "id": "88e2e263",
   "metadata": {},
   "outputs": [],
   "source": [
    "def get_first_index(arr, mid):\n",
    "    if arr[mid] == arr[mid + 1]:\n",
    "        return mid\n",
    "    return mid + 1\n",
    "\n",
    "\n",
    "def search_unique(arr):\n",
    "    n = len(arr)\n",
    "    \n",
    "    if n == 0: return -1\n",
    "    if n == 1: return arr[0]\n",
    "    if arr[0] != arr[1]: return arr[0]\n",
    "    if arr[n - 1] != arr[n - 2]: return arr[n - 1]\n",
    "    \n",
    "    start = 1\n",
    "    end = n - 2\n",
    "    \n",
    "    while start <= end:\n",
    "        mid = start + (end - start) // 2\n",
    "        \n",
    "        if arr[mid - 1] != arr[mid] and arr[mid + 1] != arr[mid]:\n",
    "            return arr[mid]\n",
    "        else:\n",
    "            # find the first index of the duplicates\n",
    "            first_index = get_first_index(arr, mid)\n",
    "            if first_index % 2 == 0:\n",
    "                start = mid + 1\n",
    "            else:\n",
    "                end = mid - 1\n",
    "                \n",
    "    return -1"
   ]
  },
  {
   "cell_type": "code",
   "execution_count": 3,
   "id": "97d31be4",
   "metadata": {},
   "outputs": [
    {
     "name": "stdout",
     "output_type": "stream",
     "text": [
      "7\n"
     ]
    }
   ],
   "source": [
    "arr = [1, 1, 2, 2, 5, 5, 4, 4, 7, 3, 3, 9, 9, 6, 6]\n",
    "print(search_unique(arr))"
   ]
  },
  {
   "cell_type": "code",
   "execution_count": 5,
   "id": "3f6ad338",
   "metadata": {},
   "outputs": [
    {
     "name": "stdout",
     "output_type": "stream",
     "text": [
      "4\n"
     ]
    }
   ],
   "source": [
    "arr = [1, 1, 2, 2, 5, 5, 4, 7, 7, 3, 3, 9, 9, 6, 6]\n",
    "print(search_unique(arr))"
   ]
  },
  {
   "cell_type": "code",
   "execution_count": 8,
   "id": "f744782f",
   "metadata": {},
   "outputs": [
    {
     "name": "stdout",
     "output_type": "stream",
     "text": [
      "-1\n"
     ]
    }
   ],
   "source": [
    "arr = [5, 5, 7, 7, 3, 3, 9, 9, 6, 6]\n",
    "print(search_unique(arr))"
   ]
  },
  {
   "cell_type": "code",
   "execution_count": null,
   "id": "6a71add2",
   "metadata": {},
   "outputs": [],
   "source": []
  }
 ],
 "metadata": {
  "kernelspec": {
   "display_name": "Python 3 (ipykernel)",
   "language": "python",
   "name": "python3"
  },
  "language_info": {
   "codemirror_mode": {
    "name": "ipython",
    "version": 3
   },
   "file_extension": ".py",
   "mimetype": "text/x-python",
   "name": "python",
   "nbconvert_exporter": "python",
   "pygments_lexer": "ipython3",
   "version": "3.11.5"
  }
 },
 "nbformat": 4,
 "nbformat_minor": 5
}
