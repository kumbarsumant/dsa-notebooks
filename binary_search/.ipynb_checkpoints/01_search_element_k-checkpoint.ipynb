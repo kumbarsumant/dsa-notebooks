{
 "cells": [
  {
   "cell_type": "markdown",
   "id": "2e482f5f",
   "metadata": {},
   "source": [
    "# Search Element K"
   ]
  },
  {
   "cell_type": "markdown",
   "id": "f4543e6a",
   "metadata": {},
   "source": [
    "Given a sorted array with distinct elements, search for the element k. Return the index of the element k if present else return -1 "
   ]
  },
  {
   "cell_type": "code",
   "execution_count": 1,
   "id": "9bc74cbb",
   "metadata": {},
   "outputs": [],
   "source": [
    "def binary_search(arr, k):\n",
    "    start = 0\n",
    "    end = len(arr) - 1\n",
    "    \n",
    "    while (start <= end):\n",
    "        mid = start + (end - start) // 2\n",
    "        if arr[mid] < k:\n",
    "            start = mid + 1\n",
    "        elif arr[mid] > k:\n",
    "            end = mid - 1\n",
    "        else:\n",
    "            return mid\n",
    "    \n",
    "    return -1"
   ]
  },
  {
   "cell_type": "code",
   "execution_count": 4,
   "id": "d9f9157a",
   "metadata": {},
   "outputs": [],
   "source": [
    "arr = [2, 4, 7, 9, 12, 13, 15]\n",
    "k = 15"
   ]
  },
  {
   "cell_type": "code",
   "execution_count": 5,
   "id": "f19ce20c",
   "metadata": {},
   "outputs": [
    {
     "name": "stdout",
     "output_type": "stream",
     "text": [
      "6\n"
     ]
    }
   ],
   "source": [
    "print(binary_search(arr, k))"
   ]
  },
  {
   "cell_type": "code",
   "execution_count": 6,
   "id": "e4ba6e49",
   "metadata": {},
   "outputs": [
    {
     "name": "stdout",
     "output_type": "stream",
     "text": [
      "-1\n"
     ]
    }
   ],
   "source": [
    "k = 3\n",
    "print(binary_search(arr, k))"
   ]
  },
  {
   "cell_type": "code",
   "execution_count": 7,
   "id": "bd1758fd",
   "metadata": {},
   "outputs": [
    {
     "name": "stdout",
     "output_type": "stream",
     "text": [
      "1\n"
     ]
    }
   ],
   "source": [
    "k = 4\n",
    "print(binary_search(arr, k))"
   ]
  }
 ],
 "metadata": {
  "kernelspec": {
   "display_name": "Python 3 (ipykernel)",
   "language": "python",
   "name": "python3"
  },
  "language_info": {
   "codemirror_mode": {
    "name": "ipython",
    "version": 3
   },
   "file_extension": ".py",
   "mimetype": "text/x-python",
   "name": "python",
   "nbconvert_exporter": "python",
   "pygments_lexer": "ipython3",
   "version": "3.11.5"
  }
 },
 "nbformat": 4,
 "nbformat_minor": 5
}
