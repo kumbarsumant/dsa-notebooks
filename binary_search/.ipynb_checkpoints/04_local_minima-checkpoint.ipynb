{
 "cells": [
  {
   "cell_type": "markdown",
   "id": "b933d005",
   "metadata": {},
   "source": [
    "# Find Local Minima"
   ]
  },
  {
   "cell_type": "markdown",
   "id": "41877d48",
   "metadata": {},
   "source": [
    "Given an array of elements, find any local minima. An element is said to be local minima if its adjacent elements are greator than the element. Return -1 if there is no local minima"
   ]
  },
  {
   "cell_type": "code",
   "execution_count": 3,
   "id": "4b87bd58",
   "metadata": {},
   "outputs": [],
   "source": [
    "def find_local_minima(arr):\n",
    "    n = len(arr)\n",
    "    \n",
    "    if n == 1:\n",
    "        return arr[0]\n",
    "    \n",
    "    if arr[0] < arr[1]:\n",
    "        return arr[0]\n",
    "    \n",
    "    if arr[n-2] > arr[n-1]:\n",
    "        return arr[n-1]\n",
    "    \n",
    "    start = 1\n",
    "    end = n - 2\n",
    "    \n",
    "    while start <= end:\n",
    "        mid = start + (end - start) // 2\n",
    "        if arr[mid - 1] > arr[mid] and arr[mid + 1] > arr[mid]:\n",
    "            return arr[mid]\n",
    "        elif arr[mid - 1] > arr[mid] and arr[mid + 1] < arr[mid]:\n",
    "            start = mid + 1\n",
    "        else:\n",
    "            end = mid - 1\n",
    "    \n",
    "    return -1"
   ]
  },
  {
   "cell_type": "code",
   "execution_count": 5,
   "id": "6c607b0a",
   "metadata": {},
   "outputs": [
    {
     "name": "stdout",
     "output_type": "stream",
     "text": [
      "5\n"
     ]
    }
   ],
   "source": [
    "arr = [3, 2, 1, 3, 4, 5, 7, 5]\n",
    "print(find_local_minima(arr))"
   ]
  },
  {
   "cell_type": "code",
   "execution_count": 6,
   "id": "657011ff",
   "metadata": {},
   "outputs": [
    {
     "name": "stdout",
     "output_type": "stream",
     "text": [
      "1\n"
     ]
    }
   ],
   "source": [
    "arr = [3, 2, 1, 3, 4, 5, 7, 10]\n",
    "print(find_local_minima(arr))"
   ]
  },
  {
   "cell_type": "code",
   "execution_count": 7,
   "id": "dc19c01c",
   "metadata": {},
   "outputs": [
    {
     "name": "stdout",
     "output_type": "stream",
     "text": [
      "0\n"
     ]
    }
   ],
   "source": [
    "arr = [0, 2, 1, 3, 4, 5, 7, 10]\n",
    "print(find_local_minima(arr))"
   ]
  },
  {
   "cell_type": "code",
   "execution_count": 8,
   "id": "1493c24a",
   "metadata": {},
   "outputs": [
    {
     "name": "stdout",
     "output_type": "stream",
     "text": [
      "-1\n"
     ]
    }
   ],
   "source": [
    "arr = [10, 2, 2, 3, 4, 5, 7, 10]\n",
    "print(find_local_minima(arr))"
   ]
  },
  {
   "cell_type": "code",
   "execution_count": null,
   "id": "6da29b69",
   "metadata": {},
   "outputs": [],
   "source": []
  }
 ],
 "metadata": {
  "kernelspec": {
   "display_name": "Python 3 (ipykernel)",
   "language": "python",
   "name": "python3"
  },
  "language_info": {
   "codemirror_mode": {
    "name": "ipython",
    "version": 3
   },
   "file_extension": ".py",
   "mimetype": "text/x-python",
   "name": "python",
   "nbconvert_exporter": "python",
   "pygments_lexer": "ipython3",
   "version": "3.11.5"
  }
 },
 "nbformat": 4,
 "nbformat_minor": 5
}
