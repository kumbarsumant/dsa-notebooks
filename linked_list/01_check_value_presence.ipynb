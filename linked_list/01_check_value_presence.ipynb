{
 "cells": [
  {
   "cell_type": "markdown",
   "id": "fe78bb94",
   "metadata": {},
   "source": [
    "# Check value x"
   ]
  },
  {
   "cell_type": "markdown",
   "id": "55cea9a3",
   "metadata": {},
   "source": [
    "Given a linked list with head node, check if data x is available in the linked list. Return True if present else return False"
   ]
  },
  {
   "cell_type": "code",
   "execution_count": 15,
   "id": "b80e3b30",
   "metadata": {},
   "outputs": [],
   "source": [
    "class Node:\n",
    "    def __init__(self, data, next=None):\n",
    "        self.data = data\n",
    "        self.next = next\n",
    "        \n",
    "    def __str__(self):\n",
    "        return f\"Node({self.data}, {self.next})\""
   ]
  },
  {
   "cell_type": "code",
   "execution_count": 16,
   "id": "90aad089",
   "metadata": {},
   "outputs": [],
   "source": [
    "n1 = Node(1)\n",
    "n1.next = Node(2)\n",
    "n1.next.next = Node(3)\n",
    "n1.next.next.next = Node(4)"
   ]
  },
  {
   "cell_type": "code",
   "execution_count": 18,
   "id": "24fbbd53",
   "metadata": {},
   "outputs": [],
   "source": [
    "def check_value(head, data):\n",
    "    current_node = head\n",
    "    while current_node:\n",
    "        if current_node.data == data:\n",
    "            return True\n",
    "        current_node = current_node.next\n",
    "    return False"
   ]
  },
  {
   "cell_type": "code",
   "execution_count": 19,
   "id": "72fd425b",
   "metadata": {},
   "outputs": [
    {
     "name": "stdout",
     "output_type": "stream",
     "text": [
      "True\n"
     ]
    }
   ],
   "source": [
    "print(check_value(n1, 2))"
   ]
  },
  {
   "cell_type": "code",
   "execution_count": 20,
   "id": "540767d5",
   "metadata": {},
   "outputs": [
    {
     "name": "stdout",
     "output_type": "stream",
     "text": [
      "False\n"
     ]
    }
   ],
   "source": [
    "print(check_value(n1, 10))"
   ]
  },
  {
   "cell_type": "code",
   "execution_count": null,
   "id": "36e6bd34",
   "metadata": {},
   "outputs": [],
   "source": []
  }
 ],
 "metadata": {
  "kernelspec": {
   "display_name": "Python 3 (ipykernel)",
   "language": "python",
   "name": "python3"
  },
  "language_info": {
   "codemirror_mode": {
    "name": "ipython",
    "version": 3
   },
   "file_extension": ".py",
   "mimetype": "text/x-python",
   "name": "python",
   "nbconvert_exporter": "python",
   "pygments_lexer": "ipython3",
   "version": "3.11.5"
  }
 },
 "nbformat": 4,
 "nbformat_minor": 5
}
