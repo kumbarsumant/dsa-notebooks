{
 "cells": [
  {
   "cell_type": "markdown",
   "id": "00223965",
   "metadata": {},
   "source": [
    "# Reverse Linked List"
   ]
  },
  {
   "cell_type": "markdown",
   "id": "a8c482f8",
   "metadata": {},
   "source": [
    "You are given a singly linked list having head node A. You have to reverse the linked list and return the head node of that reversed list."
   ]
  },
  {
   "cell_type": "code",
   "execution_count": null,
   "id": "b2df34fd",
   "metadata": {},
   "outputs": [],
   "source": [
    "# Definition for singly-linked list.\n",
    "# class ListNode:\n",
    "#   def __init__(self, x):\n",
    "#       self.val = x\n",
    "#       self.next = None\n",
    "\n",
    "class Solution:\n",
    "\t# @param A : head node of linked list\n",
    "\t# @return the head node in the linked list\n",
    "\tdef reverseList(self, head):\n",
    "        # need 2 pointers\n",
    "        prev_node = None\n",
    "        current_node = head\n",
    "        \n",
    "        while current_node: # condition on current_node\n",
    "            next_node = current_node.next # create next pointer\n",
    "            current_node.next = prev_node\n",
    "            prev_node = current_node\n",
    "            current_node = next_node\n",
    "            \n",
    "        # previous node points to last node\n",
    "        return prev_node"
   ]
  }
 ],
 "metadata": {
  "kernelspec": {
   "display_name": "Python 3 (ipykernel)",
   "language": "python",
   "name": "python3"
  },
  "language_info": {
   "codemirror_mode": {
    "name": "ipython",
    "version": 3
   },
   "file_extension": ".py",
   "mimetype": "text/x-python",
   "name": "python",
   "nbconvert_exporter": "python",
   "pygments_lexer": "ipython3",
   "version": "3.11.5"
  }
 },
 "nbformat": 4,
 "nbformat_minor": 5
}
