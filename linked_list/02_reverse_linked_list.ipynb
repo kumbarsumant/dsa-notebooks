{
 "cells": [
  {
   "cell_type": "markdown",
   "id": "b8773438",
   "metadata": {},
   "source": [
    "# Reverse Linked List"
   ]
  },
  {
   "cell_type": "markdown",
   "id": "da849257",
   "metadata": {},
   "source": [
    "You are given a singly linked list having head node A. You have to reverse the linked list and return the head node of that reversed list."
   ]
  },
  {
   "cell_type": "code",
   "execution_count": 14,
   "id": "438991dc",
   "metadata": {},
   "outputs": [],
   "source": [
    "class Node:\n",
    "    def __init__(self, data, next=None):\n",
    "        self.data = data\n",
    "        self.next = next\n",
    "        \n",
    "    def __str__(self):\n",
    "        return f\"{self.data} -> \""
   ]
  },
  {
   "cell_type": "code",
   "execution_count": 15,
   "id": "865f2653",
   "metadata": {},
   "outputs": [],
   "source": [
    "def traverse_linked_list(head):\n",
    "    current_node = head\n",
    "    while current_node:\n",
    "        print(current_node, end=\" \")\n",
    "        current_node = current_node.next"
   ]
  },
  {
   "cell_type": "code",
   "execution_count": 16,
   "id": "3a23ac96",
   "metadata": {},
   "outputs": [],
   "source": [
    "def reverse(head):\n",
    "    # make 2 pointers\n",
    "    prev_node = None\n",
    "    current_node = head\n",
    "    \n",
    "    while current_node: # until current node reaches None\n",
    "        next_node = current_node.next # store the next_node pointer\n",
    "        current_node.next = prev_node\n",
    "        prev_node = current_node\n",
    "        current_node = next_node\n",
    "    \n",
    "    # current_node is null and prev_node is pointing to last_node\n",
    "    return prev_node"
   ]
  },
  {
   "cell_type": "code",
   "execution_count": 17,
   "id": "9972a6c7",
   "metadata": {},
   "outputs": [],
   "source": [
    "n1 = Node(1)\n",
    "n1.next = Node(2)\n",
    "n1.next.next = Node(3)\n",
    "n1.next.next.next = Node(4)"
   ]
  },
  {
   "cell_type": "code",
   "execution_count": 18,
   "id": "17f87aec",
   "metadata": {},
   "outputs": [
    {
     "name": "stdout",
     "output_type": "stream",
     "text": [
      "1 ->  2 ->  3 ->  4 ->  "
     ]
    }
   ],
   "source": [
    "traverse_linked_list(n1)"
   ]
  },
  {
   "cell_type": "code",
   "execution_count": 19,
   "id": "d5362f9e",
   "metadata": {},
   "outputs": [],
   "source": [
    "reversed_head = reverse(n1)"
   ]
  },
  {
   "cell_type": "code",
   "execution_count": 20,
   "id": "f0e67af1",
   "metadata": {},
   "outputs": [
    {
     "name": "stdout",
     "output_type": "stream",
     "text": [
      "4 ->  3 ->  2 ->  1 ->  "
     ]
    }
   ],
   "source": [
    "traverse_linked_list(reversed_head)"
   ]
  },
  {
   "cell_type": "code",
   "execution_count": null,
   "id": "58eb4f85",
   "metadata": {},
   "outputs": [],
   "source": []
  }
 ],
 "metadata": {
  "kernelspec": {
   "display_name": "Python 3 (ipykernel)",
   "language": "python",
   "name": "python3"
  },
  "language_info": {
   "codemirror_mode": {
    "name": "ipython",
    "version": 3
   },
   "file_extension": ".py",
   "mimetype": "text/x-python",
   "name": "python",
   "nbconvert_exporter": "python",
   "pygments_lexer": "ipython3",
   "version": "3.11.5"
  }
 },
 "nbformat": 4,
 "nbformat_minor": 5
}
