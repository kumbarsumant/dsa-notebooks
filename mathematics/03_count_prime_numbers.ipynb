{
 "cells": [
  {
   "cell_type": "markdown",
   "id": "bc28c7d8",
   "metadata": {},
   "source": [
    "# Count Prime Numbers"
   ]
  },
  {
   "cell_type": "markdown",
   "id": "24854c8e",
   "metadata": {},
   "source": [
    "Given an upper-bound n return the list of all prime numbers between 1 to n "
   ]
  },
  {
   "cell_type": "code",
   "execution_count": 2,
   "id": "71a5fd44",
   "metadata": {},
   "outputs": [],
   "source": [
    "# sieve of eratosthenes\n",
    "def count_prime_numbers(n):\n",
    "    is_prime = [True] * (n + 1)\n",
    "    i = 2\n",
    "    \n",
    "    while i <= n // i:\n",
    "        if is_prime[i]:\n",
    "            j = i + i\n",
    "            while j <= n:\n",
    "                is_prime[j] = False\n",
    "                j += i\n",
    "        i += 1\n",
    "    \n",
    "    result = []\n",
    "    for i in range(2, n + 1):\n",
    "        if is_prime[i]:\n",
    "            result.append(i)\n",
    "    return result"
   ]
  },
  {
   "cell_type": "code",
   "execution_count": 7,
   "id": "037a3854",
   "metadata": {},
   "outputs": [
    {
     "data": {
      "text/plain": [
       "[2]"
      ]
     },
     "execution_count": 7,
     "metadata": {},
     "output_type": "execute_result"
    }
   ],
   "source": [
    "count_prime_numbers(2)"
   ]
  },
  {
   "cell_type": "code",
   "execution_count": 8,
   "id": "516b7c6c",
   "metadata": {},
   "outputs": [
    {
     "data": {
      "text/plain": [
       "[2, 3, 5, 7]"
      ]
     },
     "execution_count": 8,
     "metadata": {},
     "output_type": "execute_result"
    }
   ],
   "source": [
    "count_prime_numbers(10)"
   ]
  },
  {
   "cell_type": "code",
   "execution_count": 9,
   "id": "a078da5a",
   "metadata": {},
   "outputs": [
    {
     "data": {
      "text/plain": [
       "[2, 3, 5, 7, 11, 13, 17, 19]"
      ]
     },
     "execution_count": 9,
     "metadata": {},
     "output_type": "execute_result"
    }
   ],
   "source": [
    "count_prime_numbers(20)"
   ]
  },
  {
   "cell_type": "code",
   "execution_count": 10,
   "id": "93dd98e0",
   "metadata": {},
   "outputs": [
    {
     "data": {
      "text/plain": [
       "[2, 3, 5, 7, 11, 13, 17, 19, 23, 29, 31, 37, 41, 43, 47]"
      ]
     },
     "execution_count": 10,
     "metadata": {},
     "output_type": "execute_result"
    }
   ],
   "source": [
    "count_prime_numbers(50)"
   ]
  },
  {
   "cell_type": "code",
   "execution_count": null,
   "id": "6e39c7e5",
   "metadata": {},
   "outputs": [],
   "source": []
  }
 ],
 "metadata": {
  "kernelspec": {
   "display_name": "Python 3 (ipykernel)",
   "language": "python",
   "name": "python3"
  },
  "language_info": {
   "codemirror_mode": {
    "name": "ipython",
    "version": 3
   },
   "file_extension": ".py",
   "mimetype": "text/x-python",
   "name": "python",
   "nbconvert_exporter": "python",
   "pygments_lexer": "ipython3",
   "version": "3.11.5"
  }
 },
 "nbformat": 4,
 "nbformat_minor": 5
}
