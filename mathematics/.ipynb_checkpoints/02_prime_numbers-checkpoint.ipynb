{
 "cells": [
  {
   "cell_type": "markdown",
   "id": "ffe3576c",
   "metadata": {},
   "source": [
    "# Prime Number"
   ]
  },
  {
   "cell_type": "markdown",
   "id": "888a190c",
   "metadata": {},
   "source": [
    "identify if the given integer n is prime, n > 1"
   ]
  },
  {
   "cell_type": "code",
   "execution_count": 1,
   "id": "874c9968",
   "metadata": {},
   "outputs": [],
   "source": [
    "def is_prime(n):\n",
    "    i = 2\n",
    "    while(i <= n // i):\n",
    "        if n % i == 0:\n",
    "            return False\n",
    "        i += 1\n",
    "    return True"
   ]
  },
  {
   "cell_type": "code",
   "execution_count": 4,
   "id": "1ff58b60",
   "metadata": {},
   "outputs": [
    {
     "data": {
      "text/plain": [
       "True"
      ]
     },
     "execution_count": 4,
     "metadata": {},
     "output_type": "execute_result"
    }
   ],
   "source": [
    "is_prime(2)"
   ]
  },
  {
   "cell_type": "code",
   "execution_count": 5,
   "id": "43622ae5",
   "metadata": {},
   "outputs": [
    {
     "data": {
      "text/plain": [
       "False"
      ]
     },
     "execution_count": 5,
     "metadata": {},
     "output_type": "execute_result"
    }
   ],
   "source": [
    "is_prime(6)"
   ]
  },
  {
   "cell_type": "code",
   "execution_count": 6,
   "id": "e023f6dd",
   "metadata": {},
   "outputs": [
    {
     "data": {
      "text/plain": [
       "False"
      ]
     },
     "execution_count": 6,
     "metadata": {},
     "output_type": "execute_result"
    }
   ],
   "source": [
    "is_prime(9)"
   ]
  },
  {
   "cell_type": "code",
   "execution_count": 7,
   "id": "eb122784",
   "metadata": {},
   "outputs": [
    {
     "data": {
      "text/plain": [
       "True"
      ]
     },
     "execution_count": 7,
     "metadata": {},
     "output_type": "execute_result"
    }
   ],
   "source": [
    "is_prime(7)"
   ]
  },
  {
   "cell_type": "markdown",
   "id": "95bc0509",
   "metadata": {},
   "source": [
    "Using count of factors"
   ]
  },
  {
   "cell_type": "code",
   "execution_count": 15,
   "id": "f26110d8",
   "metadata": {},
   "outputs": [],
   "source": [
    "# count the total number of factors for given number\n",
    "def count_factors(n):\n",
    "    count = 0\n",
    "    i = 1\n",
    "    while (i <= n // i):\n",
    "        if n % i == 0:\n",
    "            if i == n // i:\n",
    "                count += 1\n",
    "            else:\n",
    "                count += 2\n",
    "        i += 1\n",
    "    return count\n",
    "\n",
    "\n",
    "def is_prime(n):\n",
    "    factor_count = count_factors(n)\n",
    "    return factor_count == 2"
   ]
  },
  {
   "cell_type": "code",
   "execution_count": 16,
   "id": "6892d570",
   "metadata": {},
   "outputs": [
    {
     "data": {
      "text/plain": [
       "True"
      ]
     },
     "execution_count": 16,
     "metadata": {},
     "output_type": "execute_result"
    }
   ],
   "source": [
    "is_prime(2)"
   ]
  },
  {
   "cell_type": "code",
   "execution_count": 17,
   "id": "51e12187",
   "metadata": {},
   "outputs": [
    {
     "data": {
      "text/plain": [
       "True"
      ]
     },
     "execution_count": 17,
     "metadata": {},
     "output_type": "execute_result"
    }
   ],
   "source": [
    "is_prime(3)"
   ]
  },
  {
   "cell_type": "code",
   "execution_count": 18,
   "id": "6aa42596",
   "metadata": {},
   "outputs": [
    {
     "data": {
      "text/plain": [
       "False"
      ]
     },
     "execution_count": 18,
     "metadata": {},
     "output_type": "execute_result"
    }
   ],
   "source": [
    "is_prime(4)"
   ]
  },
  {
   "cell_type": "code",
   "execution_count": 19,
   "id": "d81a2718",
   "metadata": {},
   "outputs": [
    {
     "data": {
      "text/plain": [
       "True"
      ]
     },
     "execution_count": 19,
     "metadata": {},
     "output_type": "execute_result"
    }
   ],
   "source": [
    "is_prime(7)"
   ]
  },
  {
   "cell_type": "code",
   "execution_count": 20,
   "id": "c77e6c86",
   "metadata": {},
   "outputs": [
    {
     "data": {
      "text/plain": [
       "False"
      ]
     },
     "execution_count": 20,
     "metadata": {},
     "output_type": "execute_result"
    }
   ],
   "source": [
    "is_prime(9)"
   ]
  },
  {
   "cell_type": "code",
   "execution_count": null,
   "id": "bd0b3c38",
   "metadata": {},
   "outputs": [],
   "source": []
  }
 ],
 "metadata": {
  "kernelspec": {
   "display_name": "Python 3 (ipykernel)",
   "language": "python",
   "name": "python3"
  },
  "language_info": {
   "codemirror_mode": {
    "name": "ipython",
    "version": 3
   },
   "file_extension": ".py",
   "mimetype": "text/x-python",
   "name": "python",
   "nbconvert_exporter": "python",
   "pygments_lexer": "ipython3",
   "version": "3.11.5"
  }
 },
 "nbformat": 4,
 "nbformat_minor": 5
}
