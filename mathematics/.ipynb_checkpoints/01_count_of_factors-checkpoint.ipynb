{
 "cells": [
  {
   "cell_type": "markdown",
   "id": "22dac7c2",
   "metadata": {},
   "source": [
    "# Count Factors"
   ]
  },
  {
   "cell_type": "markdown",
   "id": "38b6fcd5",
   "metadata": {},
   "source": [
    "Count the total number of factors for a given number n"
   ]
  },
  {
   "cell_type": "code",
   "execution_count": 1,
   "id": "b2e21b9d",
   "metadata": {},
   "outputs": [],
   "source": [
    "def count_factors(n):\n",
    "    count = 0\n",
    "    i = 1\n",
    "    while i <= n // i:\n",
    "        if n % i == 0:\n",
    "            if i == n // i:\n",
    "                count += 1\n",
    "            else:\n",
    "                count += 2\n",
    "        i += 1\n",
    "    return count"
   ]
  },
  {
   "cell_type": "code",
   "execution_count": 2,
   "id": "e1294d90",
   "metadata": {},
   "outputs": [
    {
     "data": {
      "text/plain": [
       "2"
      ]
     },
     "execution_count": 2,
     "metadata": {},
     "output_type": "execute_result"
    }
   ],
   "source": [
    "count_factors(5)"
   ]
  },
  {
   "cell_type": "code",
   "execution_count": 3,
   "id": "b549d1ec",
   "metadata": {},
   "outputs": [
    {
     "data": {
      "text/plain": [
       "3"
      ]
     },
     "execution_count": 3,
     "metadata": {},
     "output_type": "execute_result"
    }
   ],
   "source": [
    "count_factors(9)"
   ]
  },
  {
   "cell_type": "code",
   "execution_count": 4,
   "id": "82a41581",
   "metadata": {},
   "outputs": [
    {
     "data": {
      "text/plain": [
       "1"
      ]
     },
     "execution_count": 4,
     "metadata": {},
     "output_type": "execute_result"
    }
   ],
   "source": [
    "count_factors(1)"
   ]
  },
  {
   "cell_type": "code",
   "execution_count": 5,
   "id": "c0b60ded",
   "metadata": {},
   "outputs": [
    {
     "data": {
      "text/plain": [
       "2"
      ]
     },
     "execution_count": 5,
     "metadata": {},
     "output_type": "execute_result"
    }
   ],
   "source": [
    "count_factors(7)"
   ]
  },
  {
   "cell_type": "code",
   "execution_count": 6,
   "id": "41d64676",
   "metadata": {},
   "outputs": [
    {
     "data": {
      "text/plain": [
       "9"
      ]
     },
     "execution_count": 6,
     "metadata": {},
     "output_type": "execute_result"
    }
   ],
   "source": [
    "count_factors(100)"
   ]
  },
  {
   "cell_type": "code",
   "execution_count": null,
   "id": "95725138",
   "metadata": {},
   "outputs": [],
   "source": []
  }
 ],
 "metadata": {
  "kernelspec": {
   "display_name": "Python 3 (ipykernel)",
   "language": "python",
   "name": "python3"
  },
  "language_info": {
   "codemirror_mode": {
    "name": "ipython",
    "version": 3
   },
   "file_extension": ".py",
   "mimetype": "text/x-python",
   "name": "python",
   "nbconvert_exporter": "python",
   "pygments_lexer": "ipython3",
   "version": "3.11.5"
  }
 },
 "nbformat": 4,
 "nbformat_minor": 5
}
